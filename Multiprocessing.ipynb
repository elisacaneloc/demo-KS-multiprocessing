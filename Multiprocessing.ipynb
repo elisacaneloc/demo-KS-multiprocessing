{
 "cells": [
  {
   "cell_type": "code",
   "execution_count": 1,
   "metadata": {
    "collapsed": true,
    "scrolled": true
   },
   "outputs": [],
   "source": [
    "%matplotlib inline"
   ]
  },
  {
   "cell_type": "code",
   "execution_count": 2,
   "metadata": {
    "collapsed": false,
    "scrolled": true
   },
   "outputs": [],
   "source": [
    "import numpy as np\n",
    "import matplotlib.pyplot as plt\n",
    "plt.rcParams['axes.prop_cycle'] = plt.cycler('color', ['#348ABD', '#A60628', '#7A68A6', '#467821', '#D55E00', \n",
    "                                                       '#CC79A7', '#56B4E9', '#009E73', '#F0E442', '#0072B2'])"
   ]
  },
  {
   "cell_type": "markdown",
   "metadata": {},
   "source": [
    "# Multiprocessing en python (muy simplificado)\n",
    "\n",
    "El problema general es muy complejo. Nos concentraremos en una de las formas más simples, los problemas llamados _\"ridículamente paralelizables\"_(?). Es ideal para simulaciones Bootstrap y Monte Carlo en sus versiones simples."
   ]
  },
  {
   "cell_type": "markdown",
   "metadata": {},
   "source": [
    "## El problema que queremos resolver.\n",
    "\n",
    "Dado un set de datos con errores, haremos una simulación de Monte Carlo estándar y buscaremos los intervalos de confianza al 68% para los parametros."
   ]
  },
  {
   "cell_type": "code",
   "execution_count": 3,
   "metadata": {
    "collapsed": false,
    "scrolled": true
   },
   "outputs": [],
   "source": [
    "np.random.seed(43)\n",
    "x_data = np.random.uniform(2, 6., size=40)\n",
    "y_errs = np.random.uniform(2., 4., size=40)\n",
    "y_data = -3. + 5 * x_data + np.random.normal(0, 1, size=40) * y_errs"
   ]
  },
  {
   "cell_type": "code",
   "execution_count": 4,
   "metadata": {
    "collapsed": false,
    "scrolled": true
   },
   "outputs": [
    {
     "data": {
      "text/plain": [
       "<Container object of 3 artists>"
      ]
     },
     "execution_count": 4,
     "metadata": {},
     "output_type": "execute_result"
    },
    {
     "data": {
      "image/png": "[encoded data removed]",
      "text/plain": [
       "<matplotlib.figure.Figure at 0x106b40090>"
      ]
     },
     "metadata": {},
     "output_type": "display_data"
    }
   ],
   "source": [
    "plt.errorbar(x_data, y_data, yerr=y_errs, ls='None', marker='.', capsize=0)"
   ]
  },
  {
   "cell_type": "markdown",
   "metadata": {},
   "source": [
    "## Minimización usando $\\chi^2$"
   ]
  },
  {
   "cell_type": "code",
   "execution_count": 5,
   "metadata": {
    "collapsed": false,
    "scrolled": true
   },
   "outputs": [],
   "source": [
    "from scipy.optimize import curve_fit"
   ]
  },
  {
   "cell_type": "code",
   "execution_count": 6,
   "metadata": {
    "collapsed": true,
    "scrolled": true
   },
   "outputs": [],
   "source": [
    "def model(x, a, b):\n",
    "    return a + b * x"
   ]
  },
  {
   "cell_type": "code",
   "execution_count": 7,
   "metadata": {
    "collapsed": true,
    "scrolled": true
   },
   "outputs": [],
   "source": [
    "a_0 = [0, 10]\n",
    "a_optimo, a_covarianza = curve_fit(model, x_data, y_data, a_0 , y_errs)"
   ]
  },
  {
   "cell_type": "code",
   "execution_count": 8,
   "metadata": {
    "collapsed": false,
    "scrolled": true
   },
   "outputs": [
    {
     "data": {
      "image/png": "[encoded data removed]",
      "text/plain": [
       "<matplotlib.figure.Figure at 0x108a08e10>"
      ]
     },
     "metadata": {},
     "output_type": "display_data"
    }
   ],
   "source": [
    "x_values = np.linspace(1.5, 6.5, 20)\n",
    "plt.errorbar(x_data, y_data, yerr=y_errs, ls='None', marker='.', capsize=0)\n",
    "p = plt.plot(x_values, model(x_values, *a_optimo))"
   ]
  },
  {
   "cell_type": "code",
   "execution_count": 9,
   "metadata": {
    "collapsed": false
   },
   "outputs": [
    {
     "name": "stdout",
     "output_type": "stream",
     "text": [
      "a_optimo =  [-4.35405272  5.25645103]\n"
     ]
    }
   ],
   "source": [
    "print \"a_optimo = \", a_optimo"
   ]
  },
  {
   "cell_type": "markdown",
   "metadata": {},
   "source": [
    "## Ahora estimemos el intervalo de confianza con una simulación de Monte Carlo."
   ]
  },
  {
   "cell_type": "code",
   "execution_count": 10,
   "metadata": {
    "collapsed": true,
    "scrolled": true
   },
   "outputs": [],
   "source": [
    "def una_simulacion_MC(i):\n",
    "    # Notar que no se le pasan argumentos, usa x_data, y_data e y_errs que son variables globales\n",
    "    perturbaciones = np.random.normal(0, 1, size=len(x_data)) * y_errs\n",
    "    y_simulacion = y_data + perturbaciones\n",
    "    b, a = np.polyfit(x_data, y_simulacion, 1)\n",
    "    return [a, b]"
   ]
  },
  {
   "cell_type": "code",
   "execution_count": 13,
   "metadata": {
    "collapsed": false,
    "scrolled": true
   },
   "outputs": [
    {
     "name": "stdout",
     "output_type": "stream",
     "text": [
      "1 loop, best of 3: 10.2 s per loop\n"
     ]
    }
   ],
   "source": [
    "%%timeit\n",
    "N_mc = 100000\n",
    "\n",
    "MC_output = np.zeros((N_mc, 2))\n",
    "for i in range(N_mc):\n",
    "    MC_output[i] = una_simulacion_MC(1)"
   ]
  },
  {
   "cell_type": "code",
   "execution_count": 14,
   "metadata": {
    "collapsed": false,
    "scrolled": true
   },
   "outputs": [
    {
     "data": {
      "image/png": "[encoded data removed]",
      "text/plain": [
       "<matplotlib.figure.Figure at 0x109cc6690>"
      ]
     },
     "metadata": {},
     "output_type": "display_data"
    }
   ],
   "source": [
    "a_hist = plt.hist(MC_output[:,0], normed=True, alpha=0.5)\n",
    "b_hist = plt.hist(MC_output[:,1], normed=True, alpha=0.5)"
   ]
  },
  {
   "cell_type": "markdown",
   "metadata": {},
   "source": [
    "# Cómo podemos acelerar esta simulación?\n",
    "\n",
    "Cada una de las simulaciones es independiente de la anterior, **no requiere ser realizada secuencialmente**."
   ]
  },
  {
   "cell_type": "code",
   "execution_count": 15,
   "metadata": {
    "collapsed": true,
    "scrolled": true
   },
   "outputs": [],
   "source": [
    "from multiprocessing import Pool"
   ]
  },
  {
   "cell_type": "code",
   "execution_count": 19,
   "metadata": {
    "collapsed": false,
    "scrolled": true
   },
   "outputs": [
    {
     "name": "stdout",
     "output_type": "stream",
     "text": [
      "1 loop, best of 3: 2.98 s per loop\n"
     ]
    }
   ],
   "source": [
    "%%timeit\n",
    "N_procesos = 4\n",
    "p = Pool(N_procesos)\n",
    "result = p.map(una_simulacion_MC, range(N_mc))\n",
    "p.close()\n",
    "result = np.array(result)"
   ]
  },
  {
   "cell_type": "code",
   "execution_count": 20,
   "metadata": {
    "collapsed": false,
    "scrolled": true
   },
   "outputs": [
    {
     "data": {
      "image/png": "[encoded data removed]",
      "text/plain": [
       "<matplotlib.figure.Figure at 0x108c6e510>"
      ]
     },
     "metadata": {},
     "output_type": "display_data"
    }
   ],
   "source": [
    "a_hist = plt.hist(result[:,0], normed=True, alpha=0.5)\n",
    "b_hist = plt.hist(result[:,1], normed=True, alpha=0.5)"
   ]
  },
  {
   "cell_type": "code",
   "execution_count": null,
   "metadata": {
    "collapsed": true
   },
   "outputs": [],
   "source": []
  }
 ],
 "metadata": {
  "kernelspec": {
   "display_name": "Python 2",
   "language": "python",
   "name": "python2"
  },
  "language_info": {
   "codemirror_mode": {
    "name": "ipython",
    "version": 2
   },
   "file_extension": ".py",
   "mimetype": "text/x-python",
   "name": "python",
   "nbconvert_exporter": "python",
   "pygments_lexer": "ipython2",
   "version": "2.7.11"
  }
 },
 "nbformat": 4,
 "nbformat_minor": 0
}
