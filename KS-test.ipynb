{
 "cells": [
  {
   "cell_type": "code",
   "execution_count": 1,
   "metadata": {
    "collapsed": false
   },
   "outputs": [],
   "source": [
    "%matplotlib inline"
   ]
  },
  {
   "cell_type": "code",
   "execution_count": 2,
   "metadata": {
    "collapsed": false
   },
   "outputs": [],
   "source": [
    "from __future__ import division\n",
    "import numpy as np\n",
    "import matplotlib.pyplot as plt\n",
    "from scipy.optimize import curve_fit\n",
    "plt.rcParams['axes.prop_cycle'] = plt.cycler('color', ['#348ABD', '#A60628', '#7A68A6', '#467821', '#D55E00', \n",
    "                                                       '#CC79A7', '#56B4E9', '#009E73', '#F0E442', '#0072B2'])"
   ]
  },
  {
   "cell_type": "markdown",
   "metadata": {},
   "source": [
    "# Kolmogorov-Smirnov Test"
   ]
  },
  {
   "cell_type": "code",
   "execution_count": 3,
   "metadata": {
    "collapsed": true
   },
   "outputs": [],
   "source": [
    "def model(x, a, b, c):\n",
    "    return a + b * x + c * x**2"
   ]
  },
  {
   "cell_type": "code",
   "execution_count": 4,
   "metadata": {
    "collapsed": false
   },
   "outputs": [],
   "source": [
    "a_real = -3, 2, 2\n",
    "\n",
    "np.random.seed(42)\n",
    "x_data = np.random.uniform(-2, 4, 35)\n",
    "y_errs = np.random.uniform(1, 3, size=len(x_data))\n",
    "y_data = model(x_data, *a_real) + np.random.normal(0, 1, size=len(x_data)) * y_errs"
   ]
  },
  {
   "cell_type": "code",
   "execution_count": 5,
   "metadata": {
    "collapsed": false
   },
   "outputs": [
    {
     "data": {
      "text/plain": [
       "<Container object of 3 artists>"
      ]
     },
     "execution_count": 5,
     "metadata": {},
     "output_type": "execute_result"
    },
    {
     "data": {
      "image/png": "[encoded data removed]",
      "text/plain": [
       "<matplotlib.figure.Figure at 0x1088c9d10>"
      ]
     },
     "metadata": {},
     "output_type": "display_data"
    }
   ],
   "source": [
    "plt.errorbar(x_data, y_data, yerr=y_errs, ls='None', marker='.', capsize=0)"
   ]
  },
  {
   "cell_type": "markdown",
   "metadata": {},
   "source": [
    "## Primero hagamos el mejor fit"
   ]
  },
  {
   "cell_type": "code",
   "execution_count": 6,
   "metadata": {
    "collapsed": false
   },
   "outputs": [],
   "source": [
    "a0 = 1, 1, 1\n",
    "a_opt, a_covar = curve_fit(model, x_data, y_data, a0, y_errs)"
   ]
  },
  {
   "cell_type": "code",
   "execution_count": 7,
   "metadata": {
    "collapsed": false
   },
   "outputs": [
    {
     "name": "stdout",
     "output_type": "stream",
     "text": [
      "a_opt =  [-2.82765572  2.12714236  1.96674052]\n"
     ]
    }
   ],
   "source": [
    "print \"a_opt = \", a_opt"
   ]
  },
  {
   "cell_type": "code",
   "execution_count": 8,
   "metadata": {
    "collapsed": false
   },
   "outputs": [
    {
     "data": {
      "text/plain": [
       "[<matplotlib.lines.Line2D at 0x109c63cd0>]"
      ]
     },
     "execution_count": 8,
     "metadata": {},
     "output_type": "execute_result"
    },
    {
     "data": {
      "image/png": "[encoded data removed]",
      "text/plain": [
       "<matplotlib.figure.Figure at 0x109a22150>"
      ]
     },
     "metadata": {},
     "output_type": "display_data"
    }
   ],
   "source": [
    "plt.errorbar(x_data, y_data, yerr=y_errs, ls='None', marker='.', capsize=0)\n",
    "x = np.linspace(-2.5, 4.5, 100)\n",
    "plt.plot(x, model(x, *a_opt))"
   ]
  },
  {
   "cell_type": "markdown",
   "metadata": {},
   "source": [
    "## Usemos el K-S test para decidir si el fit es bueno o no.\n",
    "\n",
    "Primero necesitamos construir la funcion de probabilidad acumulada para el modelo."
   ]
  },
  {
   "cell_type": "code",
   "execution_count": 11,
   "metadata": {
    "collapsed": false
   },
   "outputs": [],
   "source": [
    "xmin = np.min(x_data)\n",
    "xmax = np.max(x_data)\n",
    "y_model_sorted = np.sort(model(np.linspace(xmin, xmax, 1000), *a_opt))"
   ]
  },
  {
   "cell_type": "code",
   "execution_count": 12,
   "metadata": {
    "collapsed": false
   },
   "outputs": [],
   "source": [
    "y_data_sorted = np.sort(y_data)\n",
    "CDF_model = np.array([np.sum(y_model_sorted <= yy) for yy in y_data_sorted]) / len(y_model_sorted)"
   ]
  },
  {
   "cell_type": "code",
   "execution_count": 13,
   "metadata": {
    "collapsed": false
   },
   "outputs": [
    {
     "data": {
      "text/plain": [
       "[<matplotlib.lines.Line2D at 0x10a22f490>]"
      ]
     },
     "execution_count": 13,
     "metadata": {},
     "output_type": "execute_result"
    },
    {
     "data": {
      "image/png": "[encoded data removed]",
      "text/plain": [
       "<matplotlib.figure.Figure at 0x109ed33d0>"
      ]
     },
     "metadata": {},
     "output_type": "display_data"
    }
   ],
   "source": [
    "N = len(y_data_sorted)\n",
    "\n",
    "\n",
    "plt.plot(y_data_sorted, np.arange(N) / N, '-^', drawstyle='steps-post')\n",
    "plt.plot(y_data_sorted, np.arange(1, N+1) / N, '-.', drawstyle='steps-post')\n",
    "plt.plot(y_data_sorted, CDF_model, '-x', drawstyle='steps-post')"
   ]
  },
  {
   "cell_type": "code",
   "execution_count": 14,
   "metadata": {
    "collapsed": true
   },
   "outputs": [],
   "source": [
    "max1 = np.max(CDF_model - np.arange(N) / N)\n",
    "max2 = np.max(np.arange(1,N+1)/N - CDF_model)"
   ]
  },
  {
   "cell_type": "code",
   "execution_count": 15,
   "metadata": {
    "collapsed": false
   },
   "outputs": [
    {
     "name": "stdout",
     "output_type": "stream",
     "text": [
      "Dn para nuestro fit =  0.142857142857\n"
     ]
    }
   ],
   "source": [
    "Dn = max(max1, max2)\n",
    "print \"Dn para nuestro fit = \", Dn"
   ]
  },
  {
   "cell_type": "markdown",
   "metadata": {},
   "source": [
    "## Ahora podemos calcular la estadística de Kolmogorov-Smirnov usando `scipy`.\n",
    "\n",
    "Tendremos que seleccionar un valor para $\\alpha$, típicamente se usa $\\alpha=0.05$."
   ]
  },
  {
   "cell_type": "code",
   "execution_count": 16,
   "metadata": {
    "collapsed": false
   },
   "outputs": [
    {
     "name": "stdout",
     "output_type": "stream",
     "text": [
      "Dn_critico =  0.229560568673\n"
     ]
    }
   ],
   "source": [
    "from scipy.stats import kstwobign\n",
    "ks_dist = kstwobign() # two-sided, aproximacion para big N\n",
    "alpha = 0.05\n",
    "Dn_critico = ks_dist.ppf(1 - alpha) / np.sqrt(N)\n",
    "print \"Dn_critico = \", Dn_critico"
   ]
  },
  {
   "cell_type": "markdown",
   "metadata": {},
   "source": [
    "## El nivel de confianza de que nuestra hipotesis es correcta?"
   ]
  },
  {
   "cell_type": "code",
   "execution_count": 17,
   "metadata": {
    "collapsed": false
   },
   "outputs": [
    {
     "name": "stdout",
     "output_type": "stream",
     "text": [
      "Confidence level kstwobign()  : 0.472710276009\n"
     ]
    }
   ],
   "source": [
    "print \"Confidence level kstwobign()  :\", 1 - ks_dist.cdf(Dn * np.sqrt(N))"
   ]
  },
  {
   "cell_type": "markdown",
   "metadata": {},
   "source": [
    "## `scipy` incluye una fcn de conveniencia para hacer estos calculos."
   ]
  },
  {
   "cell_type": "code",
   "execution_count": 18,
   "metadata": {
    "collapsed": false
   },
   "outputs": [],
   "source": [
    "from scipy.stats import kstest\n",
    "def cdf(data, model):\n",
    "    return np.array([np.sum(model <= yy) for yy in data]) / len(model)\n",
    "\n",
    "Dn_scipy, prob_scipy = kstest(y_data_sorted, cdf, args=(y_model_sorted,))"
   ]
  },
  {
   "cell_type": "code",
   "execution_count": 19,
   "metadata": {
    "collapsed": false
   },
   "outputs": [
    {
     "name": "stdout",
     "output_type": "stream",
     "text": [
      "Dn_nuestro :  0.142857142857\n",
      "Dn_scipy   :  0.142857142857\n"
     ]
    }
   ],
   "source": [
    "print \"Dn_nuestro : \", Dn\n",
    "print \"Dn_scipy   : \", Dn_scipy"
   ]
  },
  {
   "cell_type": "code",
   "execution_count": 20,
   "metadata": {
    "collapsed": false
   },
   "outputs": [
    {
     "name": "stdout",
     "output_type": "stream",
     "text": [
      "Nivel de confianza :  0.436777823858\n"
     ]
    }
   ],
   "source": [
    "print \"Nivel de confianza : \", prob_scipy"
   ]
  },
  {
   "cell_type": "markdown",
   "metadata": {},
   "source": [
    "En el paso anterior no se usa la aproximacion para N grande por lo que los valores son mejores."
   ]
  }
 ],
 "metadata": {
  "kernelspec": {
   "display_name": "Python 2",
   "language": "python",
   "name": "python2"
  },
  "language_info": {
   "codemirror_mode": {
    "name": "ipython",
    "version": 2
   },
   "file_extension": ".py",
   "mimetype": "text/x-python",
   "name": "python",
   "nbconvert_exporter": "python",
   "pygments_lexer": "ipython2",
   "version": "2.7.11"
  }
 },
 "nbformat": 4,
 "nbformat_minor": 0
}
